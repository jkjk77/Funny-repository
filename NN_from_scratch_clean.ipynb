{
  "nbformat": 4,
  "nbformat_minor": 0,
  "metadata": {
    "colab": {
      "provenance": []
    },
    "kernelspec": {
      "name": "python3",
      "display_name": "Python 3"
    },
    "language_info": {
      "name": "python"
    }
  },
  "cells": [
    {
      "cell_type": "code",
      "execution_count": 60,
      "metadata": {
        "id": "QzCh5dcwhpKU"
      },
      "outputs": [],
      "source": [
        "import numpy as np\n",
        "import pandas as pd\n",
        "from matplotlib import pyplot as plt\n",
        "from tensorflow.keras.datasets import mnist\n",
        "import random\n"
      ]
    },
    {
      "cell_type": "code",
      "source": [
        "(X_train, Y_train), (X_test, Y_test) = mnist.load_data()\n",
        "\n",
        "new_X_train = X_train.reshape(*X_train.shape[:1], -1)\n",
        "new_X_test = X_test.reshape(*X_test.shape[:1], -1)\n",
        "X_train = np.transpose(new_X_train) / 255\n",
        "\n",
        "X_test = np.transpose(new_X_test) / 255\n"
      ],
      "metadata": {
        "id": "QV3Qn0_nhs22"
      },
      "execution_count": 61,
      "outputs": []
    },
    {
      "cell_type": "code",
      "source": [
        "class NeuralNetwork:\n",
        "  __W = {}\n",
        "  __b = {}\n",
        "\n",
        "  def __init__(self):\n",
        "      self.__W[1] = np.random.rand(10, 784) - 0.5\n",
        "      self.__b[1] = np.random.rand(10, 1) - 0.5\n",
        "      self.__W[2] = np.random.rand(10, 10) - 0.5\n",
        "      self.__b[2] = np.random.rand(10, 1) - 0.5     \n",
        "\n",
        "  def __ReLU(self, Z):\n",
        "      return np.maximum(Z, 0)\n",
        "\n",
        "  def __softmax(self, Z):\n",
        "      A = np.exp(Z) / sum(np.exp(Z))\n",
        "      return A\n",
        "      \n",
        "  def __forward_prop(self, X):\n",
        "    Z = {}\n",
        "    A = {}\n",
        "    Z[1] = self.__W[1].dot(X) + self.__b[1]\n",
        "    A[1] = self.__ReLU(Z[1])\n",
        "    Z[2] = self.__W[2].dot(A[1]) + self.__b[2]\n",
        "    A[2] = self.__softmax(Z[2])\n",
        "    return Z, A\n",
        "\n",
        "  def __ReLU_deriv(self, Z):\n",
        "      return Z > 0\n",
        "\n",
        "  def __one_hot(self, Y):\n",
        "      one_hot_Y = np.zeros((Y.size, Y.max() + 1))\n",
        "      one_hot_Y[np.arange(Y.size), Y] = 1\n",
        "      one_hot_Y = one_hot_Y.T\n",
        "      return one_hot_Y\n",
        "\n",
        "  def __backward_prop(self, Z, A, X, Y):\n",
        "      dZ = {}\n",
        "      dW = {}\n",
        "      db = {}\n",
        "      m = X.shape[1]\n",
        "      one_hot_Y = self.__one_hot(Y)\n",
        "      dZ[2] = A[2] - one_hot_Y\n",
        "      dW[2] = 1 / m * dZ[2].dot(A[1].T)\n",
        "      db[2] = 1 / m * np.sum(dZ[2])\n",
        "      dZ[1] = self.__W[2].T.dot(dZ[2]) * self.__ReLU_deriv(Z[1])\n",
        "      dW[1] = 1 / m * dZ[1].dot(X.T)\n",
        "      db[1] = 1 / m * np.sum(dZ[1])\n",
        "      return dW, db\n",
        "\n",
        "  def __update_params(self, dW, db, alpha):\n",
        "    self.__W[1] = self.__W[1] - alpha * dW[1]\n",
        "    self.__b[1] = self.__b[1] - alpha * db[1]\n",
        "    self.__W[2] = self.__W[2] - alpha * dW[2]\n",
        "    self.__b[2] = self.__b[2] - alpha * db[2]\n",
        "    #return self.W, self.b\n",
        "  \n",
        "  def __get_predictions(self, A):\n",
        "      return np.argmax(A[2], 0)\n",
        "\n",
        "  def __get_accuracy(self, predictions, Y):\n",
        "      print(\"Predictions: \" + str(predictions))\n",
        "      print(\"Actual labels: \" + str(Y))\n",
        "      return np.sum(predictions == Y) / Y.size\n",
        "\n",
        "  def __gradient_descent(self, X, Y, alpha, iterations):\n",
        "      for i in range(iterations):\n",
        "          Z, A = self.__forward_prop(X)\n",
        "          dW, db = self.__backward_prop(Z, A, X, Y)\n",
        "          self.__update_params(dW, db, alpha)\n",
        "          if (i+1) % 10 == 0:\n",
        "              print(\"Iteration: \", i+1)\n",
        "              predictions = self.__get_predictions(A)\n",
        "              print(\"Accuracy: \" + str(self.__get_accuracy(predictions, Y)))\n",
        "\n",
        "  def __test_prediction(self, index):\n",
        "      current_image = X_train[:, index, None]\n",
        "      print(\"The shape is now:\")\n",
        "      print(current_image.shape)\n",
        "      prediction = self.__make_predictions(X_train[:, index, None])\n",
        "      label = Y_train[index]\n",
        "      print(\"Prediction: \", prediction)\n",
        "      print(\"Label: \", label)\n",
        "      \n",
        "      current_image = current_image.reshape((28, 28)) * 255\n",
        "      plt.gray()\n",
        "      plt.imshow(current_image, interpolation='nearest')\n",
        "      plt.show()\n",
        "  \n",
        "  def fit(self, X_train, Y_train, learning_rate, epochs):\n",
        "    self.__gradient_descent(X_train, Y_train, learning_rate, epochs)\n",
        "  \n",
        "  def predict(self, X):\n",
        "    _, A = self.__forward_prop(X)\n",
        "    predictions = self.__get_predictions(A)\n",
        "    return predictions\n",
        "\n",
        "  def visualise_predictions(self, X_test, predictions, labels = None, index=None, n_examples = 5):\n",
        "    if index is None:\n",
        "      indexes = random.sample(range(1, len(predictions)), n_examples)\n",
        "    else:\n",
        "      indexes = [index]\n",
        "    for i in indexes:\n",
        "      image = X_test[:, i, None]\n",
        "      image = image.reshape((28, 28)) * 255\n",
        "      plt.gray()\n",
        "      plt.imshow(image, interpolation='nearest')\n",
        "      plt.show()\n",
        "      print(\"Prediction: \", predictions[i])\n",
        "      if labels is not None:\n",
        "        print(\"Actual label: \", labels[i], \"\\n\")"
      ],
      "metadata": {
        "id": "phzEKlc3hu4I"
      },
      "execution_count": 62,
      "outputs": []
    },
    {
      "cell_type": "code",
      "source": [
        "model = NeuralNetwork()"
      ],
      "metadata": {
        "id": "exXBKjzfhxP6"
      },
      "execution_count": 63,
      "outputs": []
    },
    {
      "cell_type": "code",
      "source": [
        "model.fit(X_train, Y_train, 0.8, 400)"
      ],
      "metadata": {
        "colab": {
          "base_uri": "https://localhost:8080/"
        },
        "id": "oNO6-K_JhyTo",
        "outputId": "81982e6b-10cd-4e7b-c6e4-ad9f761205ba"
      },
      "execution_count": 64,
      "outputs": [
        {
          "output_type": "stream",
          "name": "stdout",
          "text": [
            "Iteration:  10\n",
            "Predictions: [6 0 4 ... 6 6 5]\n",
            "Actual labels: [5 0 4 ... 5 6 8]\n",
            "Accuracy: 0.35126666666666667\n",
            "Iteration:  20\n",
            "Predictions: [3 0 4 ... 5 6 8]\n",
            "Actual labels: [5 0 4 ... 5 6 8]\n",
            "Accuracy: 0.5228833333333334\n",
            "Iteration:  30\n",
            "Predictions: [0 0 4 ... 0 6 6]\n",
            "Actual labels: [5 0 4 ... 5 6 8]\n",
            "Accuracy: 0.3909166666666667\n",
            "Iteration:  40\n",
            "Predictions: [3 0 4 ... 0 6 6]\n",
            "Actual labels: [5 0 4 ... 5 6 8]\n",
            "Accuracy: 0.64475\n",
            "Iteration:  50\n",
            "Predictions: [5 0 4 ... 5 6 6]\n",
            "Actual labels: [5 0 4 ... 5 6 8]\n",
            "Accuracy: 0.7056166666666667\n",
            "Iteration:  60\n",
            "Predictions: [5 0 4 ... 5 6 6]\n",
            "Actual labels: [5 0 4 ... 5 6 8]\n",
            "Accuracy: 0.6327333333333334\n",
            "Iteration:  70\n",
            "Predictions: [5 0 9 ... 5 6 8]\n",
            "Actual labels: [5 0 4 ... 5 6 8]\n",
            "Accuracy: 0.6707333333333333\n",
            "Iteration:  80\n",
            "Predictions: [3 0 9 ... 5 6 8]\n",
            "Actual labels: [5 0 4 ... 5 6 8]\n",
            "Accuracy: 0.6633\n",
            "Iteration:  90\n",
            "Predictions: [3 0 9 ... 5 6 8]\n",
            "Actual labels: [5 0 4 ... 5 6 8]\n",
            "Accuracy: 0.6965333333333333\n",
            "Iteration:  100\n",
            "Predictions: [3 0 4 ... 5 6 8]\n",
            "Actual labels: [5 0 4 ... 5 6 8]\n",
            "Accuracy: 0.7507666666666667\n"
          ]
        }
      ]
    },
    {
      "cell_type": "code",
      "source": [
        "predictions = model.predict(X_test)"
      ],
      "metadata": {
        "id": "8ASc16xfgb6y"
      },
      "execution_count": 65,
      "outputs": []
    },
    {
      "cell_type": "code",
      "source": [
        "model.visualise_predictions(X_test, predictions, Y_test, n_examples=10)"
      ],
      "metadata": {
        "colab": {
          "base_uri": "https://localhost:8080/",
          "height": 1000
        },
        "id": "S8Xx5tR2gpht",
        "outputId": "5b12e8b8-474f-4ac2-a40c-2d9ff68e6ea9"
      },
      "execution_count": 66,
      "outputs": [
        {
          "output_type": "display_data",
          "data": {
            "text/plain": [
              "<Figure size 432x288 with 1 Axes>"
            ],
            "image/png": "[encoded data removed]"
          },
          "metadata": {
            "needs_background": "light"
          }
        },
        {
          "output_type": "stream",
          "name": "stdout",
          "text": [
            "Prediction:  6\n",
            "Actual label:  8 \n",
            "\n"
          ]
        },
        {
          "output_type": "display_data",
          "data": {
            "text/plain": [
              "<Figure size 432x288 with 1 Axes>"
            ],
            "image/png": "[encoded data removed]"
          },
          "metadata": {
            "needs_background": "light"
          }
        },
        {
          "output_type": "stream",
          "name": "stdout",
          "text": [
            "Prediction:  7\n",
            "Actual label:  7 \n",
            "\n"
          ]
        },
        {
          "output_type": "display_data",
          "data": {
            "text/plain": [
              "<Figure size 432x288 with 1 Axes>"
            ],
            "image/png": "[encoded data removed]"
          },
          "metadata": {
            "needs_background": "light"
          }
        },
        {
          "output_type": "stream",
          "name": "stdout",
          "text": [
            "Prediction:  5\n",
            "Actual label:  3 \n",
            "\n"
          ]
        },
        {
          "output_type": "display_data",
          "data": {
            "text/plain": [
              "<Figure size 432x288 with 1 Axes>"
            ],
            "image/png": "[encoded data removed]"
          },
          "metadata": {
            "needs_background": "light"
          }
        },
        {
          "output_type": "stream",
          "name": "stdout",
          "text": [
            "Prediction:  8\n",
            "Actual label:  8 \n",
            "\n"
          ]
        },
        {
          "output_type": "display_data",
          "data": {
            "text/plain": [
              "<Figure size 432x288 with 1 Axes>"
            ],
            "image/png": "[encoded data removed]"
          },
          "metadata": {
            "needs_background": "light"
          }
        },
        {
          "output_type": "stream",
          "name": "stdout",
          "text": [
            "Prediction:  5\n",
            "Actual label:  5 \n",
            "\n"
          ]
        },
        {
          "output_type": "display_data",
          "data": {
            "text/plain": [
              "<Figure size 432x288 with 1 Axes>"
            ],
            "image/png": "[encoded data removed]"
          },
          "metadata": {
            "needs_background": "light"
          }
        },
        {
          "output_type": "stream",
          "name": "stdout",
          "text": [
            "Prediction:  1\n",
            "Actual label:  1 \n",
            "\n"
          ]
        },
        {
          "output_type": "display_data",
          "data": {
            "text/plain": [
              "<Figure size 432x288 with 1 Axes>"
            ],
            "image/png": "[encoded data removed]"
          },
          "metadata": {
            "needs_background": "light"
          }
        },
        {
          "output_type": "stream",
          "name": "stdout",
          "text": [
            "Prediction:  6\n",
            "Actual label:  6 \n",
            "\n"
          ]
        },
        {
          "output_type": "display_data",
          "data": {
            "text/plain": [
              "<Figure size 432x288 with 1 Axes>"
            ],
            "image/png": "[encoded data removed]"
          },
          "metadata": {
            "needs_background": "light"
          }
        },
        {
          "output_type": "stream",
          "name": "stdout",
          "text": [
            "Prediction:  2\n",
            "Actual label:  6 \n",
            "\n"
          ]
        },
        {
          "output_type": "display_data",
          "data": {
            "text/plain": [
              "<Figure size 432x288 with 1 Axes>"
            ],
            "image/png": "[encoded data removed]"
          },
          "metadata": {
            "needs_background": "light"
          }
        },
        {
          "output_type": "stream",
          "name": "stdout",
          "text": [
            "Prediction:  4\n",
            "Actual label:  6 \n",
            "\n"
          ]
        },
        {
          "output_type": "display_data",
          "data": {
            "text/plain": [
              "<Figure size 432x288 with 1 Axes>"
            ],
            "image/png": "[encoded data removed]"
          },
          "metadata": {
            "needs_background": "light"
          }
        },
        {
          "output_type": "stream",
          "name": "stdout",
          "text": [
            "Prediction:  8\n",
            "Actual label:  3 \n",
            "\n"
          ]
        }
      ]
    }
  ]
}